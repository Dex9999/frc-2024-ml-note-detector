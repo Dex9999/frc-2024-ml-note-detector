{
 "cells": [
  {
   "cell_type": "code",
   "execution_count": 6,
   "id": "04f7163c-896a-4f88-95a3-a1073e22b6c8",
   "metadata": {
    "ExecuteTime": {
     "end_time": "2024-01-29T05:38:01.671671954Z",
     "start_time": "2024-01-29T05:38:01.409099605Z"
    }
   },
   "outputs": [
    {
     "name": "stdout",
     "output_type": "stream",
     "text": [
      "Mon Jan 29 00:38:01 2024       \r\n",
      "+---------------------------------------------------------------------------------------+\r\n",
      "| NVIDIA-SMI 545.29.06              Driver Version: 545.29.06    CUDA Version: 12.3     |\r\n",
      "|-----------------------------------------+----------------------+----------------------+\r\n",
      "| GPU  Name                 Persistence-M | Bus-Id        Disp.A | Volatile Uncorr. ECC |\r\n",
      "| Fan  Temp   Perf          Pwr:Usage/Cap |         Memory-Usage | GPU-Util  Compute M. |\r\n",
      "|                                         |                      |               MIG M. |\r\n",
      "|=========================================+======================+======================|\r\n",
      "|   0  NVIDIA GeForce RTX 2080        Off | 00000000:01:00.0  On |                  N/A |\r\n",
      "|  0%   47C    P8              27W / 260W |   3394MiB /  8192MiB |      3%      Default |\r\n",
      "|                                         |                      |                  N/A |\r\n",
      "+-----------------------------------------+----------------------+----------------------+\r\n",
      "                                                                                         \r\n",
      "+---------------------------------------------------------------------------------------+\r\n",
      "| Processes:                                                                            |\r\n",
      "|  GPU   GI   CI        PID   Type   Process name                            GPU Memory |\r\n",
      "|        ID   ID                                                             Usage      |\r\n",
      "|=======================================================================================|\r\n",
      "|    0   N/A  N/A      1068      G   /usr/lib/Xorg                               491MiB |\r\n",
      "|    0   N/A  N/A      1344      G   /usr/bin/kwalletd5                            2MiB |\r\n",
      "|    0   N/A  N/A      1429      G   /usr/bin/ksmserver                            2MiB |\r\n",
      "|    0   N/A  N/A      1431      G   /usr/bin/kded5                                2MiB |\r\n",
      "|    0   N/A  N/A      1432      G   /usr/bin/kwin_x11                            17MiB |\r\n",
      "|    0   N/A  N/A      1475      G   /usr/bin/plasmashell                         77MiB |\r\n",
      "|    0   N/A  N/A      1514      G   ...b/polkit-kde-authentication-agent-1        2MiB |\r\n",
      "|    0   N/A  N/A      1516      G   /usr/lib/xdg-desktop-portal-kde               2MiB |\r\n",
      "|    0   N/A  N/A      1658      G   /usr/lib/kdeconnectd                          2MiB |\r\n",
      "|    0   N/A  N/A      1706      G   /usr/bin/kclockd                              2MiB |\r\n",
      "|    0   N/A  N/A      1720      G   /usr/bin/kaccess                              2MiB |\r\n",
      "|    0   N/A  N/A      1724      G   /usr/lib/DiscoverNotifier                     2MiB |\r\n",
      "|    0   N/A  N/A      1727      G   /usr/bin/kalendarac                           2MiB |\r\n",
      "|    0   N/A  N/A      1743      G   /usr/bin/kmix                                 2MiB |\r\n",
      "|    0   N/A  N/A      4150      G   /usr/bin/krunner                              9MiB |\r\n",
      "|    0   N/A  N/A      4198      G   /usr/lib/baloorunner                          2MiB |\r\n",
      "|    0   N/A  N/A      4757      G   /usr/bin/konsole                              2MiB |\r\n",
      "|    0   N/A  N/A      6971      G   /usr/bin/dolphin                              2MiB |\r\n",
      "|    0   N/A  N/A      7825      G   /usr/lib/firefox/firefox                    172MiB |\r\n",
      "|    0   N/A  N/A     17447      G   /usr/bin/plasma-systemmonitor                50MiB |\r\n",
      "|    0   N/A  N/A     17887      C   ...24-ml-note-detector/venv/bin/python     2516MiB |\r\n",
      "+---------------------------------------------------------------------------------------+\r\n"
     ]
    }
   ],
   "source": [
    "!nvidia-smi"
   ]
  },
  {
   "cell_type": "code",
   "execution_count": 2,
   "id": "cf56d7ed-a0ab-4cee-a8a6-7a50e9731a0b",
   "metadata": {},
   "outputs": [
    {
     "name": "stdout",
     "output_type": "stream",
     "text": [
      "Ultralytics YOLOv8.1.6 🚀 Python-3.11.6 torch-2.1.2+cu121 CUDA:0 (NVIDIA GeForce RTX 2080, 7972MiB)\n",
      "Setup complete ✅ (16 CPUs, 30.5 GB RAM, 783.9/1799.2 GB disk)\n"
     ]
    }
   ],
   "source": [
    "import ultralytics\n",
    "ultralytics.checks()"
   ]
  },
  {
   "cell_type": "code",
   "outputs": [],
   "source": [
    "model = ultralytics.YOLO('yolov8m.pt')"
   ],
   "metadata": {
    "collapsed": false,
    "ExecuteTime": {
     "end_time": "2024-01-29T03:36:39.676083730Z",
     "start_time": "2024-01-29T03:36:39.553159683Z"
    }
   },
   "id": "65ab6181dacc4006",
   "execution_count": 3
  },
  {
   "cell_type": "code",
   "outputs": [
    {
     "name": "stdout",
     "output_type": "stream",
     "text": [
      "Ultralytics YOLOv8.1.6 🚀 Python-3.11.6 torch-2.1.2+cu121 CUDA:0 (NVIDIA GeForce RTX 2080, 7972MiB)\n",
      "YOLOv8m summary (fused): 218 layers, 25886080 parameters, 0 gradients, 78.9 GFLOPs\n"
     ]
    },
    {
     "name": "stderr",
     "output_type": "stream",
     "text": [
      "\u001B[34m\u001B[1mval: \u001B[0mScanning /home/hugo/git/frc-2024-ml-note-detector/datasets/coco/labels/val2017.cache... 4952 images, 48 backgrounds, 0 corrupt: 100%|██████████| 5000/5000 [00:00<?, ?it/s]\n",
      "                 Class     Images  Instances      Box(P          R      mAP50  mAP50-95): 100%|██████████| 313/313 [02:32<00:00,  2.05it/s]\n"
     ]
    },
    {
     "name": "stdout",
     "output_type": "stream",
     "text": [
      "                   all       5000      36335      0.716       0.61      0.667      0.501\n",
      "                person       5000      10777      0.821      0.745      0.829      0.616\n",
      "               bicycle       5000        314      0.742      0.525      0.626      0.402\n",
      "                   car       5000       1918      0.765      0.637      0.713      0.497\n",
      "            motorcycle       5000        367      0.805      0.677      0.792      0.548\n",
      "              airplane       5000        143       0.84      0.884      0.925      0.776\n",
      "                   bus       5000        283       0.85      0.784      0.864       0.75\n",
      "                 train       5000        190       0.88      0.888      0.938      0.769\n",
      "                 truck       5000        414      0.656       0.51      0.604      0.442\n",
      "                  boat       5000        424      0.731      0.469      0.572      0.332\n",
      "         traffic light       5000        634      0.723      0.483      0.569      0.318\n",
      "          fire hydrant       5000        101      0.887      0.842      0.901      0.749\n",
      "             stop sign       5000         75      0.818       0.72      0.795      0.716\n",
      "         parking meter       5000         60      0.774      0.633      0.693       0.54\n",
      "                 bench       5000        411      0.639      0.387      0.455      0.329\n",
      "                  bird       5000        427       0.73      0.493       0.58      0.404\n",
      "                   cat       5000        202      0.877      0.906      0.935      0.786\n",
      "                   dog       5000        218      0.828      0.821      0.848      0.739\n",
      "                 horse       5000        272       0.84      0.809      0.894      0.706\n",
      "                 sheep       5000        354      0.761      0.792      0.818      0.625\n",
      "                   cow       5000        372       0.85      0.761       0.85      0.659\n",
      "              elephant       5000        252      0.793      0.893      0.885      0.725\n",
      "                  bear       5000         71      0.919      0.887      0.931      0.803\n",
      "                 zebra       5000        266      0.863      0.865      0.929      0.765\n",
      "               giraffe       5000        232       0.93      0.922      0.946      0.783\n",
      "              backpack       5000        371      0.565      0.286       0.36      0.212\n",
      "              umbrella       5000        407      0.702      0.637      0.703      0.501\n",
      "               handbag       5000        540      0.597      0.281      0.355      0.212\n",
      "                   tie       5000        252      0.761      0.532      0.605      0.411\n",
      "              suitcase       5000        299      0.723      0.582      0.703      0.497\n",
      "               frisbee       5000        115      0.837      0.851       0.88      0.708\n",
      "                  skis       5000        241      0.697      0.476      0.521      0.317\n",
      "             snowboard       5000         69      0.682      0.493      0.562      0.442\n",
      "           sports ball       5000        260      0.822      0.596      0.668      0.479\n",
      "                  kite       5000        327      0.689      0.606      0.663      0.485\n",
      "          baseball bat       5000        145      0.677        0.6      0.684      0.443\n",
      "        baseball glove       5000        148      0.751      0.608      0.684      0.437\n",
      "            skateboard       5000        179      0.856      0.793       0.83      0.623\n",
      "             surfboard       5000        267      0.823      0.618      0.713      0.477\n",
      "         tennis racket       5000        225      0.876      0.844      0.875      0.638\n",
      "                bottle       5000       1013      0.707       0.56      0.635      0.451\n",
      "            wine glass       5000        341      0.746       0.55      0.649      0.438\n",
      "                   cup       5000        895      0.688        0.6      0.657      0.501\n",
      "                  fork       5000        215      0.704      0.586      0.659      0.485\n",
      "                 knife       5000        325      0.577      0.338      0.419      0.278\n",
      "                 spoon       5000        253      0.554      0.356      0.423      0.298\n",
      "                  bowl       5000        623      0.654      0.581      0.632      0.487\n",
      "                banana       5000        370      0.584      0.349      0.444      0.297\n",
      "                 apple       5000        236      0.478      0.297      0.324      0.233\n",
      "              sandwich       5000        177      0.642      0.567      0.599      0.477\n",
      "                orange       5000        285      0.525      0.389      0.438      0.342\n",
      "              broccoli       5000        312      0.579      0.394      0.457      0.267\n",
      "                carrot       5000        365      0.462      0.397      0.379      0.248\n",
      "               hot dog       5000        125       0.72      0.504      0.574      0.441\n",
      "                 pizza       5000        284      0.753      0.736      0.779      0.613\n",
      "                 donut       5000        328      0.686      0.585      0.649      0.525\n",
      "                  cake       5000        310      0.673      0.552       0.63      0.429\n",
      "                 chair       5000       1771      0.662      0.475      0.568      0.389\n",
      "                 couch       5000        261      0.691      0.594      0.687      0.535\n",
      "          potted plant       5000        342       0.61      0.538      0.542      0.349\n",
      "                   bed       5000        163      0.676       0.65      0.717      0.533\n",
      "          dining table       5000        695      0.611      0.491      0.517      0.366\n",
      "                toilet       5000        179      0.794      0.788      0.865      0.722\n",
      "                    tv       5000        288      0.787      0.758       0.82      0.651\n",
      "                laptop       5000        231      0.779      0.758      0.823      0.716\n",
      "                 mouse       5000        106      0.861      0.802      0.858      0.665\n",
      "                remote       5000        283      0.676      0.505      0.589      0.393\n",
      "              keyboard       5000        153      0.672      0.643      0.754      0.593\n",
      "            cell phone       5000        262      0.678      0.576      0.615      0.434\n",
      "             microwave       5000         55      0.714      0.818      0.837      0.696\n",
      "                  oven       5000        143      0.634      0.566      0.607      0.454\n",
      "               toaster       5000          9      0.595      0.778      0.657      0.459\n",
      "                  sink       5000        225       0.67      0.604      0.635      0.447\n",
      "          refrigerator       5000        126      0.749      0.762      0.808       0.69\n",
      "                  book       5000       1129      0.583      0.189      0.302      0.174\n",
      "                 clock       5000        267      0.762      0.727      0.772      0.565\n",
      "                  vase       5000        274      0.663      0.609       0.62      0.451\n",
      "              scissors       5000         36       0.67      0.417      0.448      0.375\n",
      "            teddy bear       5000        190      0.741      0.692      0.743      0.586\n",
      "            hair drier       5000         11      0.329     0.0909     0.0813     0.0443\n",
      "            toothbrush       5000         57      0.552      0.475      0.482      0.349\n",
      "Speed: 0.3ms preprocess, 12.6ms inference, 0.0ms loss, 4.4ms postprocess per image\n",
      "Saving runs/detect/val/predictions.json...\n",
      "\n",
      "Evaluating pycocotools mAP using runs/detect/val/predictions.json and /home/hugo/git/frc-2024-ml-note-detector/datasets/coco/annotations/instances_val2017.json...\n",
      "loading annotations into memory...\n",
      "Done (t=0.49s)\n",
      "creating index...\n",
      "index created!\n",
      "Loading and preparing results...\n",
      "DONE (t=2.42s)\n",
      "creating index...\n",
      "index created!\n",
      "Running per image evaluation...\n",
      "Evaluate annotation type *bbox*\n",
      "DONE (t=18.27s).\n",
      "Accumulating evaluation results...\n",
      "DONE (t=3.08s).\n",
      " Average Precision  (AP) @[ IoU=0.50:0.95 | area=   all | maxDets=100 ] = 0.503\n",
      " Average Precision  (AP) @[ IoU=0.50      | area=   all | maxDets=100 ] = 0.672\n",
      " Average Precision  (AP) @[ IoU=0.75      | area=   all | maxDets=100 ] = 0.548\n",
      " Average Precision  (AP) @[ IoU=0.50:0.95 | area= small | maxDets=100 ] = 0.323\n",
      " Average Precision  (AP) @[ IoU=0.50:0.95 | area=medium | maxDets=100 ] = 0.559\n",
      " Average Precision  (AP) @[ IoU=0.50:0.95 | area= large | maxDets=100 ] = 0.665\n",
      " Average Recall     (AR) @[ IoU=0.50:0.95 | area=   all | maxDets=  1 ] = 0.384\n",
      " Average Recall     (AR) @[ IoU=0.50:0.95 | area=   all | maxDets= 10 ] = 0.637\n",
      " Average Recall     (AR) @[ IoU=0.50:0.95 | area=   all | maxDets=100 ] = 0.686\n",
      " Average Recall     (AR) @[ IoU=0.50:0.95 | area= small | maxDets=100 ] = 0.513\n",
      " Average Recall     (AR) @[ IoU=0.50:0.95 | area=medium | maxDets=100 ] = 0.745\n",
      " Average Recall     (AR) @[ IoU=0.50:0.95 | area= large | maxDets=100 ] = 0.833\n",
      "Results saved to \u001B[1mruns/detect/val\u001B[0m\n",
      "\n",
      "Found https://ultralytics.com/images/bus.jpg locally at bus.jpg\n",
      "image 1/1 /home/hugo/git/frc-2024-ml-note-detector/bus.jpg: 640x480 4 persons, 1 bus, 37.7ms\n",
      "Speed: 3.9ms preprocess, 37.7ms inference, 10.4ms postprocess per image at shape (1, 3, 640, 480)\n",
      "Results saved to \u001B[1mruns/detect/predict\u001B[0m\n"
     ]
    }
   ],
   "source": [
    "results = model.val(data='coco.yaml')\n",
    "results = model('https://ultralytics.com/images/bus.jpg', save=True)  # predict on an image"
   ],
   "metadata": {
    "collapsed": false,
    "ExecuteTime": {
     "end_time": "2024-01-29T03:39:43.958532920Z",
     "start_time": "2024-01-29T03:36:39.605637936Z"
    }
   },
   "id": "6efdbbbb1d516f09",
   "execution_count": 4
  },
  {
   "cell_type": "code",
   "outputs": [],
   "source": [
    "model.train(data='coco128.yaml', epochs=500, batch=-1)"
   ],
   "metadata": {
    "collapsed": false
   },
   "id": "d2621f202d86579b",
   "execution_count": null
  },
  {
   "cell_type": "code",
   "outputs": [],
   "source": [
    "results = model.val(data='coco.yaml')\n",
    "results = model('https://ultralytics.com/images/bus.jpg', save=True)  # predict on an image\n",
    "\n"
   ],
   "metadata": {
    "collapsed": false,
    "is_executing": true
   },
   "id": "f32e09c4b2b94276",
   "execution_count": null
  },
  {
   "cell_type": "code",
   "outputs": [
    {
     "name": "stdout",
     "output_type": "stream",
     "text": [
      "Ultralytics YOLOv8.1.6 🚀 Python-3.11.6 torch-2.1.2+cu121 CUDA:0 (NVIDIA GeForce RTX 2080, 7972MiB)\n",
      "Setup complete ✅ (16 CPUs, 30.5 GB RAM, 791.0/1799.2 GB disk)\n"
     ]
    }
   ],
   "source": [
    "import ultralytics\n",
    "ultralytics.checks()\n",
    "\n",
    "model = ultralytics.YOLO('runs/detect/train/weights/best.pt')"
   ],
   "metadata": {
    "collapsed": false
   },
   "id": "b9b0273c73e58c85",
   "execution_count": 1
  },
  {
   "cell_type": "code",
   "outputs": [
    {
     "name": "stdout",
     "output_type": "stream",
     "text": [
      "New https://pypi.org/project/ultralytics/8.1.7 available 😃 Update with 'pip install -U ultralytics'\n",
      "Ultralytics YOLOv8.1.6 🚀 Python-3.11.6 torch-2.1.2+cu121 CUDA:0 (NVIDIA GeForce RTX 2080, 7972MiB)\n",
      "\u001B[34m\u001B[1mengine/trainer: \u001B[0mtask=detect, mode=train, model=runs/detect/train/weights/best.pt, data=coco.yaml, epochs=4, time=None, patience=50, batch=-1, imgsz=640, save=True, save_period=-1, cache=False, device=None, workers=8, project=None, name=train8, exist_ok=False, pretrained=True, optimizer=auto, verbose=True, seed=0, deterministic=True, single_cls=False, rect=False, cos_lr=False, close_mosaic=10, resume=False, amp=True, fraction=1.0, profile=False, freeze=None, multi_scale=False, overlap_mask=True, mask_ratio=4, dropout=0.0, val=True, split=val, save_json=False, save_hybrid=False, conf=None, iou=0.7, max_det=300, half=False, dnn=False, plots=True, source=None, vid_stride=1, stream_buffer=False, visualize=False, augment=False, agnostic_nms=False, classes=None, retina_masks=False, embed=None, show=False, save_frames=False, save_txt=False, save_conf=False, save_crop=False, show_labels=True, show_conf=True, show_boxes=True, line_width=None, format=torchscript, keras=False, optimize=False, int8=False, dynamic=False, simplify=False, opset=None, workspace=4, nms=False, lr0=0.01, lrf=0.01, momentum=0.937, weight_decay=0.0005, warmup_epochs=3.0, warmup_momentum=0.8, warmup_bias_lr=0.1, box=7.5, cls=0.5, dfl=1.5, pose=12.0, kobj=1.0, label_smoothing=0.0, nbs=64, hsv_h=0.015, hsv_s=0.7, hsv_v=0.4, degrees=0.0, translate=0.1, scale=0.5, shear=0.0, perspective=0.0, flipud=0.0, fliplr=0.5, mosaic=1.0, mixup=0.0, copy_paste=0.0, auto_augment=randaugment, erasing=0.4, crop_fraction=1.0, cfg=None, tracker=botsort.yaml, save_dir=runs/detect/train8\n",
      "\n",
      "                   from  n    params  module                                       arguments                     \n",
      "  0                  -1  1      1392  ultralytics.nn.modules.conv.Conv             [3, 48, 3, 2]                 \n",
      "  1                  -1  1     41664  ultralytics.nn.modules.conv.Conv             [48, 96, 3, 2]                \n",
      "  2                  -1  2    111360  ultralytics.nn.modules.block.C2f             [96, 96, 2, True]             \n",
      "  3                  -1  1    166272  ultralytics.nn.modules.conv.Conv             [96, 192, 3, 2]               \n",
      "  4                  -1  4    813312  ultralytics.nn.modules.block.C2f             [192, 192, 4, True]           \n",
      "  5                  -1  1    664320  ultralytics.nn.modules.conv.Conv             [192, 384, 3, 2]              \n",
      "  6                  -1  4   3248640  ultralytics.nn.modules.block.C2f             [384, 384, 4, True]           \n",
      "  7                  -1  1   1991808  ultralytics.nn.modules.conv.Conv             [384, 576, 3, 2]              \n",
      "  8                  -1  2   3985920  ultralytics.nn.modules.block.C2f             [576, 576, 2, True]           \n",
      "  9                  -1  1    831168  ultralytics.nn.modules.block.SPPF            [576, 576, 5]                 \n",
      " 10                  -1  1         0  torch.nn.modules.upsampling.Upsample         [None, 2, 'nearest']          \n",
      " 11             [-1, 6]  1         0  ultralytics.nn.modules.conv.Concat           [1]                           \n",
      " 12                  -1  2   1993728  ultralytics.nn.modules.block.C2f             [960, 384, 2]                 \n",
      " 13                  -1  1         0  torch.nn.modules.upsampling.Upsample         [None, 2, 'nearest']          \n",
      " 14             [-1, 4]  1         0  ultralytics.nn.modules.conv.Concat           [1]                           \n",
      " 15                  -1  2    517632  ultralytics.nn.modules.block.C2f             [576, 192, 2]                 \n",
      " 16                  -1  1    332160  ultralytics.nn.modules.conv.Conv             [192, 192, 3, 2]              \n",
      " 17            [-1, 12]  1         0  ultralytics.nn.modules.conv.Concat           [1]                           \n",
      " 18                  -1  2   1846272  ultralytics.nn.modules.block.C2f             [576, 384, 2]                 \n",
      " 19                  -1  1   1327872  ultralytics.nn.modules.conv.Conv             [384, 384, 3, 2]              \n",
      " 20             [-1, 9]  1         0  ultralytics.nn.modules.conv.Concat           [1]                           \n",
      " 21                  -1  2   4207104  ultralytics.nn.modules.block.C2f             [960, 576, 2]                 \n",
      " 22        [15, 18, 21]  1   3822016  ultralytics.nn.modules.head.Detect           [80, [192, 384, 576]]         \n",
      "Model summary: 295 layers, 25902640 parameters, 25902624 gradients, 79.3 GFLOPs\n",
      "Transferred 475/475 items from pretrained weights\n",
      "Freezing layer 'model.22.dfl.conv.weight'\n",
      "\u001B[34m\u001B[1mAMP: \u001B[0mrunning Automatic Mixed Precision (AMP) checks with YOLOv8n...\n",
      "\u001B[34m\u001B[1mAMP: \u001B[0mchecks passed ✅\n",
      "\u001B[34m\u001B[1mAutoBatch: \u001B[0mComputing optimal batch size for imgsz=640\n",
      "\u001B[34m\u001B[1mAutoBatch: \u001B[0mCUDA:0 (NVIDIA GeForce RTX 2080) 7.78G total, 1.93G reserved, 1.46G allocated, 4.39G free\n",
      "      Params      GFLOPs  GPU_mem (GB)  forward (ms) backward (ms)                   input                  output\n",
      "    25902640       79.32         2.158         10.98         9.913        (1, 3, 640, 640)                    list\n",
      "    25902640       158.6         2.332         17.26         16.33        (2, 3, 640, 640)                    list\n",
      "    25902640       317.3         3.137         30.39         31.11        (4, 3, 640, 640)                    list\n",
      "    25902640       634.6         4.605         59.67         60.71        (8, 3, 640, 640)                    list\n",
      "    25902640        1269         7.229         111.5         224.8       (16, 3, 640, 640)                    list\n",
      "\u001B[34m\u001B[1mAutoBatch: \u001B[0mUsing batch-size 2 for CUDA:0 5.84G/7.78G (75%) ✅\n"
     ]
    },
    {
     "name": "stderr",
     "output_type": "stream",
     "text": [
      "\u001B[34m\u001B[1mtrain: \u001B[0mScanning /home/hugo/git/frc-2024-ml-note-detector/datasets/coco/labels/train2017.cache... 117266 images, 1021 backgrounds, 0 corrupt: 100%|██████████| 118287/118287 [00:00<?, ?it/s]\n",
      "\u001B[34m\u001B[1mval: \u001B[0mScanning /home/hugo/git/frc-2024-ml-note-detector/datasets/coco/labels/val2017.cache... 4952 images, 48 backgrounds, 0 corrupt: 100%|██████████| 5000/5000 [00:00<?, ?it/s]\n"
     ]
    },
    {
     "name": "stdout",
     "output_type": "stream",
     "text": [
      "Plotting labels to runs/detect/train8/labels.jpg... \n",
      "\u001B[34m\u001B[1moptimizer:\u001B[0m 'optimizer=auto' found, ignoring 'lr0=0.01' and 'momentum=0.937' and determining best 'optimizer', 'lr0' and 'momentum' automatically... \n",
      "\u001B[34m\u001B[1moptimizer:\u001B[0m AdamW(lr=0.000119, momentum=0.9) with parameter groups 77 weight(decay=0.0), 84 weight(decay=0.0005), 83 bias(decay=0.0)\n",
      "Image sizes 640 train, 640 val\n",
      "Using 8 dataloader workers\n",
      "Logging results to \u001B[1mruns/detect/train8\u001B[0m\n",
      "Starting training for 4 epochs...\n",
      "\n",
      "      Epoch    GPU_mem   box_loss   cls_loss   dfl_loss  Instances       Size\n"
     ]
    },
    {
     "name": "stderr",
     "output_type": "stream",
     "text": [
      "        1/4      2.53G       1.17      1.796      1.319         25        640: 100%|██████████| 59144/59144 [1:19:11<00:00, 12.45it/s]\n",
      "                 Class     Images  Instances      Box(P          R      mAP50  mAP50-95): 100%|██████████| 1250/1250 [00:53<00:00, 23.35it/s]\n"
     ]
    },
    {
     "name": "stdout",
     "output_type": "stream",
     "text": [
      "                   all       5000      36335      0.622      0.514      0.551      0.399\n",
      "\n",
      "      Epoch    GPU_mem   box_loss   cls_loss   dfl_loss  Instances       Size\n"
     ]
    },
    {
     "name": "stderr",
     "output_type": "stream",
     "text": [
      "        2/4       2.5G      1.022      1.379      1.203         17        640: 100%|██████████| 59144/59144 [1:17:10<00:00, 12.77it/s]\n",
      "                 Class     Images  Instances      Box(P          R      mAP50  mAP50-95): 100%|██████████| 1250/1250 [00:50<00:00, 24.65it/s]\n"
     ]
    },
    {
     "name": "stdout",
     "output_type": "stream",
     "text": [
      "                   all       5000      36335      0.653      0.535      0.584      0.426\n",
      "\n",
      "      Epoch    GPU_mem   box_loss   cls_loss   dfl_loss  Instances       Size\n"
     ]
    },
    {
     "name": "stderr",
     "output_type": "stream",
     "text": [
      "        3/4      2.53G     0.9819      1.262      1.167          7        640: 100%|██████████| 59144/59144 [1:14:46<00:00, 13.18it/s]\n",
      "                 Class     Images  Instances      Box(P          R      mAP50  mAP50-95): 100%|██████████| 1250/1250 [00:49<00:00, 25.27it/s]\n"
     ]
    },
    {
     "name": "stdout",
     "output_type": "stream",
     "text": [
      "                   all       5000      36335      0.662      0.546      0.593      0.435\n",
      "\n",
      "      Epoch    GPU_mem   box_loss   cls_loss   dfl_loss  Instances       Size\n"
     ]
    },
    {
     "name": "stderr",
     "output_type": "stream",
     "text": [
      "        4/4      2.51G     0.9537      1.175      1.144          1        640: 100%|██████████| 59144/59144 [1:12:03<00:00, 13.68it/s]\n",
      "                 Class     Images  Instances      Box(P          R      mAP50  mAP50-95): 100%|██████████| 1250/1250 [00:49<00:00, 25.47it/s]\n"
     ]
    },
    {
     "name": "stdout",
     "output_type": "stream",
     "text": [
      "                   all       5000      36335      0.663      0.555      0.599      0.441\n",
      "\n",
      "4 epochs completed in 5.111 hours.\n",
      "Optimizer stripped from runs/detect/train8/weights/last.pt, 52.1MB\n",
      "Optimizer stripped from runs/detect/train8/weights/best.pt, 52.1MB\n",
      "\n",
      "Validating runs/detect/train8/weights/best.pt...\n",
      "Ultralytics YOLOv8.1.6 🚀 Python-3.11.6 torch-2.1.2+cu121 CUDA:0 (NVIDIA GeForce RTX 2080, 7972MiB)\n",
      "Model summary (fused): 218 layers, 25886080 parameters, 0 gradients, 78.9 GFLOPs\n"
     ]
    },
    {
     "name": "stderr",
     "output_type": "stream",
     "text": [
      "                 Class     Images  Instances      Box(P          R      mAP50  mAP50-95): 100%|██████████| 1250/1250 [00:46<00:00, 26.79it/s]\n"
     ]
    },
    {
     "name": "stdout",
     "output_type": "stream",
     "text": [
      "                   all       5000      36335      0.664      0.554      0.599      0.441\n",
      "                person       5000      10777      0.854      0.676        0.8       0.58\n",
      "               bicycle       5000        314      0.643      0.471      0.524      0.324\n",
      "                   car       5000       1918      0.733      0.559       0.65      0.443\n",
      "            motorcycle       5000        367      0.748      0.671      0.744      0.491\n",
      "              airplane       5000        143       0.81      0.804      0.867      0.701\n",
      "                   bus       5000        283      0.836      0.723      0.822      0.707\n",
      "                 train       5000        190      0.857      0.816      0.887      0.712\n",
      "                 truck       5000        414      0.634      0.464      0.545      0.389\n",
      "                  boat       5000        424      0.597      0.377      0.448      0.265\n",
      "         traffic light       5000        634       0.66      0.389       0.46      0.245\n",
      "          fire hydrant       5000        101      0.849      0.792      0.852      0.734\n",
      "             stop sign       5000         75      0.747       0.68      0.742       0.67\n",
      "         parking meter       5000         60      0.695      0.567      0.619       0.48\n",
      "                 bench       5000        411      0.576       0.36      0.388      0.268\n",
      "                  bird       5000        427      0.597      0.471      0.499      0.342\n",
      "                   cat       5000        202      0.847      0.851      0.885       0.72\n",
      "                   dog       5000        218      0.761      0.771      0.796       0.68\n",
      "                 horse       5000        272      0.831      0.746      0.852      0.666\n",
      "                 sheep       5000        354      0.634      0.774      0.791      0.574\n",
      "                   cow       5000        372      0.759      0.745      0.791      0.601\n",
      "              elephant       5000        252      0.723      0.889      0.839      0.663\n",
      "                  bear       5000         71      0.816      0.812       0.88      0.741\n",
      "                 zebra       5000        266       0.77      0.895      0.917       0.73\n",
      "               giraffe       5000        232      0.848      0.875      0.897       0.72\n",
      "              backpack       5000        371      0.508      0.229       0.27      0.162\n",
      "              umbrella       5000        407      0.642      0.587      0.621      0.446\n",
      "               handbag       5000        540      0.504       0.23      0.264      0.152\n",
      "                   tie       5000        252      0.716       0.44      0.522      0.353\n",
      "              suitcase       5000        299      0.537      0.656       0.62      0.441\n",
      "               frisbee       5000        115       0.82      0.791      0.837      0.651\n",
      "                  skis       5000        241      0.619      0.378      0.457      0.255\n",
      "             snowboard       5000         69      0.442       0.39      0.459      0.357\n",
      "           sports ball       5000        260      0.781      0.521      0.574      0.416\n",
      "                  kite       5000        327      0.619      0.639      0.617      0.415\n",
      "          baseball bat       5000        145      0.594      0.531      0.553       0.34\n",
      "        baseball glove       5000        148      0.746      0.595      0.617      0.373\n",
      "            skateboard       5000        179      0.844      0.753       0.78      0.566\n",
      "             surfboard       5000        267      0.696      0.566      0.627      0.413\n",
      "         tennis racket       5000        225      0.816      0.756      0.815       0.56\n",
      "                bottle       5000       1013      0.646      0.499      0.559      0.386\n",
      "            wine glass       5000        341      0.641      0.481      0.546      0.358\n",
      "                   cup       5000        895      0.666      0.534      0.585      0.434\n",
      "                  fork       5000        215      0.601       0.47      0.521      0.367\n",
      "                 knife       5000        325      0.557      0.255      0.309        0.2\n",
      "                 spoon       5000        253      0.517      0.285      0.306      0.208\n",
      "                  bowl       5000        623      0.704      0.518      0.596       0.45\n",
      "                banana       5000        370      0.481      0.348       0.37      0.241\n",
      "                 apple       5000        236      0.427      0.242      0.269      0.196\n",
      "              sandwich       5000        177       0.64      0.452      0.523      0.381\n",
      "                orange       5000        285      0.478      0.411      0.388      0.309\n",
      "              broccoli       5000        312      0.505      0.356      0.376      0.207\n",
      "                carrot       5000        365      0.438      0.364      0.336      0.219\n",
      "               hot dog       5000        125      0.577      0.496      0.502      0.378\n",
      "                 pizza       5000        284       0.76      0.701       0.74      0.571\n",
      "                 donut       5000        328      0.464      0.652       0.57       0.45\n",
      "                  cake       5000        310      0.577      0.558      0.544      0.367\n",
      "                 chair       5000       1771      0.663      0.427      0.513      0.339\n",
      "                 couch       5000        261      0.674      0.578      0.636      0.493\n",
      "          potted plant       5000        342      0.563      0.456      0.453      0.275\n",
      "                   bed       5000        163      0.669      0.589      0.651      0.491\n",
      "          dining table       5000        695      0.604      0.431      0.473      0.325\n",
      "                toilet       5000        179      0.701      0.777      0.777      0.625\n",
      "                    tv       5000        288       0.78      0.691      0.761      0.592\n",
      "                laptop       5000        231       0.74      0.701      0.774      0.646\n",
      "                 mouse       5000        106      0.711      0.764      0.778      0.612\n",
      "                remote       5000        283      0.566      0.455      0.481        0.3\n",
      "              keyboard       5000        153      0.659      0.608      0.678        0.5\n",
      "            cell phone       5000        262      0.597      0.486      0.531      0.375\n",
      "             microwave       5000         55      0.633      0.764      0.783      0.628\n",
      "                  oven       5000        143      0.532      0.566      0.575      0.424\n",
      "               toaster       5000          9          1          0      0.579      0.418\n",
      "                  sink       5000        225      0.641      0.564      0.578      0.388\n",
      "          refrigerator       5000        126      0.682      0.706      0.726      0.599\n",
      "                  book       5000       1129        0.5      0.129      0.235      0.122\n",
      "                 clock       5000        267      0.674      0.674      0.699      0.502\n",
      "                  vase       5000        274       0.56      0.547      0.556       0.41\n",
      "              scissors       5000         36      0.473      0.444      0.421      0.367\n",
      "            teddy bear       5000        190      0.682      0.679      0.687      0.505\n",
      "            hair drier       5000         11          1          0     0.0337     0.0168\n",
      "            toothbrush       5000         57      0.442      0.389      0.346      0.253\n",
      "Speed: 0.1ms preprocess, 6.2ms inference, 0.0ms loss, 0.8ms postprocess per image\n",
      "Saving runs/detect/train8/predictions.json...\n",
      "\n",
      "Evaluating pycocotools mAP using runs/detect/train8/predictions.json and /home/hugo/git/frc-2024-ml-note-detector/datasets/coco/annotations/instances_val2017.json...\n",
      "loading annotations into memory...\n",
      "Done (t=0.19s)\n",
      "creating index...\n",
      "index created!\n",
      "Loading and preparing results...\n",
      "DONE (t=3.42s)\n",
      "creating index...\n",
      "index created!\n",
      "Running per image evaluation...\n",
      "Evaluate annotation type *bbox*\n",
      "DONE (t=19.80s).\n",
      "Accumulating evaluation results...\n",
      "DONE (t=4.03s).\n",
      " Average Precision  (AP) @[ IoU=0.50:0.95 | area=   all | maxDets=100 ] = 0.446\n",
      " Average Precision  (AP) @[ IoU=0.50      | area=   all | maxDets=100 ] = 0.606\n",
      " Average Precision  (AP) @[ IoU=0.75      | area=   all | maxDets=100 ] = 0.487\n",
      " Average Precision  (AP) @[ IoU=0.50:0.95 | area= small | maxDets=100 ] = 0.263\n",
      " Average Precision  (AP) @[ IoU=0.50:0.95 | area=medium | maxDets=100 ] = 0.503\n",
      " Average Precision  (AP) @[ IoU=0.50:0.95 | area= large | maxDets=100 ] = 0.593\n",
      " Average Recall     (AR) @[ IoU=0.50:0.95 | area=   all | maxDets=  1 ] = 0.355\n",
      " Average Recall     (AR) @[ IoU=0.50:0.95 | area=   all | maxDets= 10 ] = 0.592\n",
      " Average Recall     (AR) @[ IoU=0.50:0.95 | area=   all | maxDets=100 ] = 0.646\n",
      " Average Recall     (AR) @[ IoU=0.50:0.95 | area= small | maxDets=100 ] = 0.444\n",
      " Average Recall     (AR) @[ IoU=0.50:0.95 | area=medium | maxDets=100 ] = 0.712\n",
      " Average Recall     (AR) @[ IoU=0.50:0.95 | area= large | maxDets=100 ] = 0.788\n",
      "Results saved to \u001B[1mruns/detect/train8\u001B[0m\n"
     ]
    }
   ],
   "source": [
    "results = model.train(data='coco.yaml', epochs=4, batch=-1)\n"
   ],
   "metadata": {
    "collapsed": false,
    "ExecuteTime": {
     "end_time": "2024-01-29T10:48:17.834425318Z",
     "start_time": "2024-01-29T05:40:06.246173603Z"
    }
   },
   "id": "ce1adc490c4614c7",
   "execution_count": 9
  },
  {
   "cell_type": "code",
   "outputs": [
    {
     "name": "stdout",
     "output_type": "stream",
     "text": [
      "Ultralytics YOLOv8.1.6 🚀 Python-3.11.6 torch-2.1.2+cu121 CUDA:0 (NVIDIA GeForce RTX 2080, 7972MiB)\n",
      "Model summary (fused): 218 layers, 25886080 parameters, 0 gradients, 78.9 GFLOPs\n"
     ]
    },
    {
     "name": "stderr",
     "output_type": "stream",
     "text": [
      "\u001B[34m\u001B[1mval: \u001B[0mScanning /home/hugo/git/frc-2024-ml-note-detector/datasets/coco/labels/val2017.cache... 4952 images, 48 backgrounds, 0 corrupt: 100%|██████████| 5000/5000 [00:00<?, ?it/s]\n",
      "                 Class     Images  Instances      Box(P          R      mAP50  mAP50-95): 100%|██████████| 2500/2500 [01:22<00:00, 30.16it/s]\n"
     ]
    },
    {
     "name": "stdout",
     "output_type": "stream",
     "text": [
      "                   all       5000      36335      0.663      0.555      0.599      0.441\n",
      "                person       5000      10777      0.853      0.677        0.8       0.58\n",
      "               bicycle       5000        314      0.641      0.468      0.523      0.323\n",
      "                   car       5000       1918      0.732      0.562      0.653      0.444\n",
      "            motorcycle       5000        367      0.747      0.676      0.744      0.492\n",
      "              airplane       5000        143       0.81      0.804      0.867      0.701\n",
      "                   bus       5000        283      0.837      0.724      0.822      0.705\n",
      "                 train       5000        190      0.856      0.816      0.888      0.714\n",
      "                 truck       5000        414      0.635       0.47      0.545       0.39\n",
      "                  boat       5000        424      0.596       0.38      0.447      0.267\n",
      "         traffic light       5000        634      0.659      0.391      0.461      0.245\n",
      "          fire hydrant       5000        101      0.849      0.792      0.852      0.739\n",
      "             stop sign       5000         75      0.747       0.68      0.737      0.671\n",
      "         parking meter       5000         60      0.695      0.567      0.619      0.477\n",
      "                 bench       5000        411      0.575       0.36      0.388      0.269\n",
      "                  bird       5000        427      0.593      0.471      0.499      0.343\n",
      "                   cat       5000        202      0.847      0.851      0.886      0.721\n",
      "                   dog       5000        218       0.76      0.771      0.796      0.683\n",
      "                 horse       5000        272      0.832      0.745      0.851      0.665\n",
      "                 sheep       5000        354      0.633       0.78      0.796      0.574\n",
      "                   cow       5000        372      0.761      0.745      0.793      0.601\n",
      "              elephant       5000        252      0.722      0.889      0.839      0.663\n",
      "                  bear       5000         71      0.817      0.817       0.88      0.741\n",
      "                 zebra       5000        266      0.767      0.895      0.917       0.73\n",
      "               giraffe       5000        232      0.845      0.875      0.897      0.722\n",
      "              backpack       5000        371       0.51      0.229      0.271      0.161\n",
      "              umbrella       5000        407      0.643      0.587       0.62      0.446\n",
      "               handbag       5000        540      0.503       0.23      0.265      0.152\n",
      "                   tie       5000        252       0.72       0.44      0.523      0.355\n",
      "              suitcase       5000        299      0.535      0.659       0.62      0.442\n",
      "               frisbee       5000        115       0.82      0.791      0.839      0.654\n",
      "                  skis       5000        241      0.611      0.373      0.455      0.253\n",
      "             snowboard       5000         69      0.448      0.391       0.46      0.353\n",
      "           sports ball       5000        260      0.787      0.526      0.575      0.414\n",
      "                  kite       5000        327      0.618      0.639      0.616      0.418\n",
      "          baseball bat       5000        145      0.594      0.531      0.553      0.339\n",
      "        baseball glove       5000        148      0.746      0.595      0.618      0.373\n",
      "            skateboard       5000        179      0.844      0.754       0.78      0.566\n",
      "             surfboard       5000        267      0.697       0.57      0.629      0.413\n",
      "         tennis racket       5000        225      0.814      0.756      0.815      0.561\n",
      "                bottle       5000       1013      0.643      0.502       0.56      0.387\n",
      "            wine glass       5000        341      0.632      0.481      0.548      0.359\n",
      "                   cup       5000        895      0.664      0.534      0.585      0.434\n",
      "                  fork       5000        215      0.597      0.474      0.519      0.366\n",
      "                 knife       5000        325      0.554      0.255       0.31        0.2\n",
      "                 spoon       5000        253      0.512      0.285      0.305      0.208\n",
      "                  bowl       5000        623      0.704       0.52      0.597      0.451\n",
      "                banana       5000        370       0.48      0.354       0.37      0.241\n",
      "                 apple       5000        236      0.427      0.242      0.269      0.197\n",
      "              sandwich       5000        177      0.636      0.452      0.524      0.382\n",
      "                orange       5000        285      0.474      0.411      0.388       0.31\n",
      "              broccoli       5000        312      0.505      0.356      0.377      0.208\n",
      "                carrot       5000        365      0.437      0.367      0.335       0.22\n",
      "               hot dog       5000        125      0.569      0.496      0.502      0.376\n",
      "                 pizza       5000        284       0.76      0.701      0.744      0.573\n",
      "                 donut       5000        328      0.463      0.652       0.57       0.45\n",
      "                  cake       5000        310      0.574      0.561      0.544      0.366\n",
      "                 chair       5000       1771      0.661      0.429      0.514       0.34\n",
      "                 couch       5000        261      0.674      0.578      0.636      0.492\n",
      "          potted plant       5000        342       0.56      0.459      0.451      0.275\n",
      "                   bed       5000        163      0.669      0.589      0.651      0.492\n",
      "          dining table       5000        695      0.599      0.432      0.474      0.325\n",
      "                toilet       5000        179        0.7      0.777      0.776      0.627\n",
      "                    tv       5000        288      0.781      0.698      0.762      0.591\n",
      "                laptop       5000        231      0.739      0.701      0.774      0.647\n",
      "                 mouse       5000        106      0.711      0.764      0.778      0.612\n",
      "                remote       5000        283      0.564      0.456      0.479      0.298\n",
      "              keyboard       5000        153      0.657      0.608      0.678      0.499\n",
      "            cell phone       5000        262      0.596       0.49      0.531      0.375\n",
      "             microwave       5000         55       0.63      0.764      0.783      0.624\n",
      "                  oven       5000        143      0.531      0.566      0.576      0.423\n",
      "               toaster       5000          9          1          0      0.579      0.418\n",
      "                  sink       5000        225      0.639      0.564      0.578      0.389\n",
      "          refrigerator       5000        126      0.675      0.706      0.726      0.599\n",
      "                  book       5000       1129      0.503      0.133      0.235      0.123\n",
      "                 clock       5000        267      0.674      0.674        0.7      0.504\n",
      "                  vase       5000        274      0.555      0.547      0.556      0.409\n",
      "              scissors       5000         36      0.471      0.444      0.422      0.368\n",
      "            teddy bear       5000        190      0.679      0.679      0.687      0.505\n",
      "            hair drier       5000         11          1          0     0.0337     0.0168\n",
      "            toothbrush       5000         57      0.454      0.395      0.351       0.25\n",
      "Speed: 0.2ms preprocess, 13.3ms inference, 0.0ms loss, 0.7ms postprocess per image\n",
      "Saving runs/detect/train82/predictions.json...\n",
      "\n",
      "Evaluating pycocotools mAP using runs/detect/train82/predictions.json and /home/hugo/git/frc-2024-ml-note-detector/datasets/coco/annotations/instances_val2017.json...\n",
      "loading annotations into memory...\n",
      "Done (t=1.35s)\n",
      "creating index...\n",
      "index created!\n",
      "Loading and preparing results...\n",
      "DONE (t=3.56s)\n",
      "creating index...\n",
      "index created!\n",
      "Running per image evaluation...\n",
      "Evaluate annotation type *bbox*\n",
      "DONE (t=20.04s).\n",
      "Accumulating evaluation results...\n",
      "DONE (t=4.09s).\n",
      " Average Precision  (AP) @[ IoU=0.50:0.95 | area=   all | maxDets=100 ] = 0.446\n",
      " Average Precision  (AP) @[ IoU=0.50      | area=   all | maxDets=100 ] = 0.607\n",
      " Average Precision  (AP) @[ IoU=0.75      | area=   all | maxDets=100 ] = 0.488\n",
      " Average Precision  (AP) @[ IoU=0.50:0.95 | area= small | maxDets=100 ] = 0.263\n",
      " Average Precision  (AP) @[ IoU=0.50:0.95 | area=medium | maxDets=100 ] = 0.503\n",
      " Average Precision  (AP) @[ IoU=0.50:0.95 | area= large | maxDets=100 ] = 0.593\n",
      " Average Recall     (AR) @[ IoU=0.50:0.95 | area=   all | maxDets=  1 ] = 0.355\n",
      " Average Recall     (AR) @[ IoU=0.50:0.95 | area=   all | maxDets= 10 ] = 0.592\n",
      " Average Recall     (AR) @[ IoU=0.50:0.95 | area=   all | maxDets=100 ] = 0.646\n",
      " Average Recall     (AR) @[ IoU=0.50:0.95 | area= small | maxDets=100 ] = 0.444\n",
      " Average Recall     (AR) @[ IoU=0.50:0.95 | area=medium | maxDets=100 ] = 0.712\n",
      " Average Recall     (AR) @[ IoU=0.50:0.95 | area= large | maxDets=100 ] = 0.789\n",
      "Results saved to \u001B[1mruns/detect/train82\u001B[0m\n",
      "\n",
      "Found https://ultralytics.com/images/bus.jpg locally at bus.jpg\n",
      "image 1/1 /home/hugo/git/frc-2024-ml-note-detector/bus.jpg: 640x480 4 persons, 1 bus, 1 stop sign, 20.5ms\n",
      "Speed: 10.7ms preprocess, 20.5ms inference, 6.1ms postprocess per image at shape (1, 3, 640, 480)\n",
      "Results saved to \u001B[1mruns/detect/train83\u001B[0m\n"
     ]
    }
   ],
   "source": [
    "results = model.val(data='coco.yaml')\n",
    "results = model('https://ultralytics.com/images/bus.jpg', save=True)  # predict on an image\n"
   ],
   "metadata": {
    "collapsed": false,
    "ExecuteTime": {
     "end_time": "2024-01-29T10:50:16.904297588Z",
     "start_time": "2024-01-29T10:48:17.836362599Z"
    }
   },
   "id": "8852ecdc3151a31b",
   "execution_count": 10
  },
  {
   "cell_type": "code",
   "outputs": [],
   "source": [],
   "metadata": {
    "collapsed": false
   },
   "id": "4c9b961c3c098983"
  }
 ],
 "metadata": {
  "kernelspec": {
   "display_name": "venv",
   "language": "python",
   "name": "venv"
  },
  "language_info": {
   "codemirror_mode": {
    "name": "ipython",
    "version": 3
   },
   "file_extension": ".py",
   "mimetype": "text/x-python",
   "name": "python",
   "nbconvert_exporter": "python",
   "pygments_lexer": "ipython3",
   "version": "3.11.6"
  }
 },
 "nbformat": 4,
 "nbformat_minor": 5
}
