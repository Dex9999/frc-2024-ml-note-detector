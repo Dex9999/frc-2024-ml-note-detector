{
 "cells": [
  {
   "cell_type": "code",
   "execution_count": 6,
   "id": "04f7163c-896a-4f88-95a3-a1073e22b6c8",
   "metadata": {
    "ExecuteTime": {
     "end_time": "2024-01-27T18:23:49.330074348Z",
     "start_time": "2024-01-27T18:23:49.209782333Z"
    }
   },
   "outputs": [
    {
     "name": "stdout",
     "output_type": "stream",
     "text": [
      "/bin/bash: line 1: nvidia-smi: command not found\r\n"
     ]
    }
   ],
   "source": [
    "!nvidia-smi"
   ]
  },
  {
   "cell_type": "code",
   "execution_count": 7,
   "id": "cf56d7ed-a0ab-4cee-a8a6-7a50e9731a0b",
   "metadata": {},
   "outputs": [
    {
     "name": "stdout",
     "output_type": "stream",
     "text": [
      "Ultralytics YOLOv8.1.6 🚀 Python-3.11.6 torch-2.1.2+cu121 CPU (11th Gen Intel Core(TM) i7-1185G7 3.00GHz)\n",
      "Setup complete ✅ (8 CPUs, 31.1 GB RAM, 36.0/48.9 GB disk)\n"
     ]
    }
   ],
   "source": [
    "import ultralytics\n",
    "ultralytics.checks()"
   ]
  },
  {
   "cell_type": "code",
   "execution_count": 9,
   "id": "758831b9-62c5-42f0-bf38-b83f52642ec1",
   "metadata": {
    "ExecuteTime": {
     "end_time": "2024-01-27T18:25:23.284002231Z",
     "start_time": "2024-01-27T18:24:56.661198471Z"
    }
   },
   "outputs": [
    {
     "name": "stdout",
     "output_type": "stream",
     "text": [
      "Downloading https://github.com/ultralytics/assets/releases/download/v8.1.0/yolov8x.pt to 'yolov8x.pt'...\r\n",
      "100%|████████████████████████████████████████| 131M/131M [00:21<00:00, 6.48MB/s]\r\n",
      "Ultralytics YOLOv8.1.6 🚀 Python-3.11.6 torch-2.1.2+cu121 CPU (11th Gen Intel Core(TM) i7-1185G7 3.00GHz)\r\n",
      "YOLOv8x summary (fused): 268 layers, 68200608 parameters, 0 gradients, 257.8 GFLOPs\r\n",
      "\r\n",
      "Found https://ultralytics.com/images/zidane.jpg locally at zidane.jpg\r\n",
      "image 1/1 /home/hugo/git/robotics/2024/2024-note/zidane.jpg: 384x640 2 persons, 1 tie, 512.4ms\r\n",
      "Speed: 0.9ms preprocess, 512.4ms inference, 0.8ms postprocess per image at shape (1, 3, 384, 640)\r\n",
      "Results saved to \u001B[1m/home/hugo/git/robotics/2024/2024-note/runs/detect/predict2\u001B[0m\r\n",
      "💡 Learn more at https://docs.ultralytics.com/modes/predict\r\n"
     ]
    }
   ],
   "source": [
    "# Run inference on an image with YOLOv8n\n",
    "!yolo predict model=yolov8n.pt source='https://ultralytics.com/images/zidane.jpg'"
   ]
  }
 ],
 "metadata": {
  "kernelspec": {
   "display_name": "venv",
   "language": "python",
   "name": "venv"
  },
  "language_info": {
   "codemirror_mode": {
    "name": "ipython",
    "version": 3
   },
   "file_extension": ".py",
   "mimetype": "text/x-python",
   "name": "python",
   "nbconvert_exporter": "python",
   "pygments_lexer": "ipython3",
   "version": "3.11.6"
  }
 },
 "nbformat": 4,
 "nbformat_minor": 5
}
